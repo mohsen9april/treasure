{
 "cells": [
  {
   "cell_type": "markdown",
   "metadata": {},
   "source": [
    "Ollama"
   ]
  },
  {
   "cell_type": "markdown",
   "metadata": {},
   "source": [
    "https://ollama.com/\n",
    "https://github.com/ollama/ollama\n",
    "https://www.itpiran.net/blog/tutorials/ai-chatbot-with-ollama-and-open-webui/\n"
   ]
  },
  {
   "cell_type": "markdown",
   "metadata": {},
   "source": [
    "گزینه های خط فرمان و رابط کاربری گرافیکی\n",
    "اولاما عمدتاً از طریق a command-line رابط (CLI) که به شما کنترل دقیقی بر روی مدل ها می دهد.\n",
    " CLI به فرمان‌های سریع برای کشیدن، اجرا و مدیریت مدل‌ها اجازه می‌دهد، که اگر در کار راحت هستید ایده‌آل است. terminal پنجره\n",
    "\n",
    "Ollama همچنین از ابزارهای رابط کاربری گرافیکی (GUI) شخص ثالث مانند WebUI را باز کنید، برای کسانی که رویکرد بصری تری را ترجیح می دهند.\n"
   ]
  }
 ],
 "metadata": {
  "language_info": {
   "name": "python"
  }
 },
 "nbformat": 4,
 "nbformat_minor": 2
}
